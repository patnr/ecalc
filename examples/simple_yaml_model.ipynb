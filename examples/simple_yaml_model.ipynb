{
 "cells": [
  {
   "cell_type": "markdown",
   "id": "f977b4ed",
   "metadata": {},
   "source": [
    "# Simple Model Example\n",
    "\n",
    "There are two ways of running a simple eCalc™ model:\n",
    "\n",
    "1. Specifying a YAML model\n",
    "2. Specifying a Python model\n",
    "\n",
    "Here we will look at both scenarios:\n",
    "\n",
    "## The Simple Model\n",
    "The Simple used in this example is the reference case in [eCalc™ Docs - Simple Model Example](https://equinor.github.io/ecalc/docs/about/modelling/examples/simple).\n",
    "\n",
    "The model consists of a single installation with:\n",
    "- Flare\n",
    "- Gas Export Compressor\n",
    "- Generator set A:\n",
    "    - Base Production Load\n",
    "    - Gas Injection Compressor\n",
    "    - Produced Water Re-injection Pump\n",
    "    - Seawater Injection Pump\n",
    "\n",
    "The model.yaml file contains references to:\n",
    "- production_data.csv\n",
    "- genset.csv\n",
    "- compressor_sampled.csv\n",
    "- compressor_sampled_with_turbine.csv\n",
    "- pump_sampled.csv\n",
    "- pump_chart.csv"
   ]
  },
  {
   "cell_type": "markdown",
   "id": "938fd12e",
   "metadata": {},
   "source": [
    "## Yaml Model\n",
    "A YAML model consists of a main YAML file and may reference to other input files - usually CSV-files for timeseries inputs.\n",
    "For more details about creating a model in YAML, see the [eCalc™ Docs](https://equinor.github.io/ecalc/docs/about)\n",
    "\n",
    "All files for the example can be found in the directory references in the code below.\n",
    "\n",
    "Here is how you load and run a YAML-model in eCalc™"
   ]
  },
  {
   "cell_type": "code",
   "execution_count": null,
   "id": "4f6b0260",
   "metadata": {},
   "outputs": [],
   "source": [
    "from pathlib import Path\n",
    "from libecalc.core.graph_result import GraphResult\n",
    "from libecalc.core.ecalc import EnergyCalculator\n",
    "from libecalc.common.time_utils import Frequency\n",
    "from libecalc.input.model import YamlModel\n",
    "from libecalc.examples import simple\n",
    "import matplotlib.pyplot as plt\n",
    "import pandas as pd"
   ]
  },
  {
   "cell_type": "code",
   "execution_count": null,
   "id": "a6bdc64a",
   "metadata": {},
   "outputs": [],
   "source": [
    "model_path = Path(simple.__file__).parent / \"model.yaml\"\n",
    "yaml_model = YamlModel(path=model_path, output_frequency=Frequency.NONE)\n",
    "\n",
    "model = EnergyCalculator(graph=yaml_model.graph)"
   ]
  },
  {
   "cell_type": "markdown",
   "id": "becb557f",
   "metadata": {},
   "source": [
    "## Compute"
   ]
  },
  {
   "cell_type": "code",
   "execution_count": null,
   "id": "92b7acd9",
   "metadata": {},
   "outputs": [],
   "source": [
    "consumer_results = model.evaluate_energy_usage(yaml_model.variables)\n",
    "emission_results = model.evaluate_emissions(\n",
    "    variables_map=yaml_model.variables,\n",
    "    consumer_results=consumer_results,\n",
    ")"
   ]
  },
  {
   "cell_type": "markdown",
   "id": "9b4ce947",
   "metadata": {},
   "source": [
    "## Extract"
   ]
  },
  {
   "cell_type": "code",
   "execution_count": null,
   "id": "5631e38e",
   "metadata": {
    "lines_to_next_cell": 1
   },
   "outputs": [],
   "source": [
    "result = GraphResult(\n",
    "    graph=yaml_model.graph,\n",
    "    consumer_results=consumer_results,\n",
    "    variables_map=yaml_model.variables,\n",
    "    emission_results=emission_results,\n",
    ")"
   ]
  },
  {
   "cell_type": "markdown",
   "id": "8f31f723",
   "metadata": {},
   "source": [
    "## Plot results per component"
   ]
  },
  {
   "cell_type": "code",
   "execution_count": null,
   "id": "200bae4a",
   "metadata": {},
   "outputs": [],
   "source": [
    "def mfig(nax, **kwargs):\n",
    "    \"\"\"Create superimposed, shifted, colored axes.\"\"\"\n",
    "    fig = plt.figure(num=kwargs.pop('num', None), figsize=kwargs.pop('figsize', None))\n",
    "    fig.clear()\n",
    "    fig, ax0 = plt.subplots(num=fig.get_label(), nrows=1, ncols=1)\n",
    "    fig.subplots_adjust(right=1 - .05*nax)\n",
    "\n",
    "    axs = []\n",
    "    for i in range(nax):\n",
    "        ax = ax0.twinx()\n",
    "        color=f\"C{i}\"\n",
    "        ax.spines.right.set_position((\"axes\", 1 + .05 * i))\n",
    "        ax.yaxis.label.set_color(color)\n",
    "        ax.tick_params(axis='y', colors=color)\n",
    "        axs.append(ax)\n",
    "    ax0.set_yticks([])\n",
    "    return fig, axs\n",
    "\n",
    "\n",
    "def plot_results(kind, legend_kws={}):\n",
    "    \"\"\"Plot `result` components together.\"\"\"\n",
    "\n",
    "    # The two data structures are slightly different\n",
    "    if \"emis\" in kind.lower():\n",
    "        kind = \"Emissions\"\n",
    "        results = result.emission_results\n",
    "        def get_data(id_hash):\n",
    "            r = results[id_hash]\n",
    "            assert len(r) == 1\n",
    "            return r['co2'].rate\n",
    "    else:\n",
    "        kind = \"Generic\"\n",
    "        results = result.consumer_results\n",
    "        def get_data(id_hash):\n",
    "            r = results[id_hash]\n",
    "            return r.component_result.energy_usage\n",
    "\n",
    "    # Filter `components` by `results`\n",
    "    components = {id_hash: comp for (id_hash, comp)\n",
    "                  in yaml_model.graph.components.items()\n",
    "                  if id_hash in results}\n",
    "\n",
    "    # Plot\n",
    "    fig, axs = mfig(len(components), num=kind, figsize=(8, 5))\n",
    "    fig.suptitle(kind)\n",
    "\n",
    "    for i, (id_hash, component) in enumerate(components.items()):\n",
    "        data = get_data(id_hash)\n",
    "        lbl = f\"{component.name}\\n({type(component).__name__}, {data.unit})\"\n",
    "        ds = pd.Series(data.values, index=data.timesteps)\n",
    "        ax = axs[i]\n",
    "        color = colors[id_hash]\n",
    "        ds.plot(ax=axs[i], color=color, lw=2, marker=\".\", xlabel=\"time\", label=lbl)\n",
    "        ax.yaxis.label.set_color(color)\n",
    "        ax.tick_params(axis='y', colors=color)\n",
    "\n",
    "    fig.legend(**{\"loc\":\"lower center\", \"bbox_to_anchor\":(.5, 0),\n",
    "                  \"fontsize\": \"small\", \"bbox_transform\": axs[0].transAxes,\n",
    "                  **legend_kws})\n",
    "    plt.tight_layout()\n",
    "    return fig"
   ]
  },
  {
   "cell_type": "code",
   "execution_count": null,
   "id": "334d2841",
   "metadata": {},
   "outputs": [],
   "source": [
    "if __name__ == \"__main__\":\n",
    "    plt.ion();\n",
    "    colors = {id_hash: f'C{i}' for i, id_hash in enumerate(yaml_model.graph.components)}\n",
    "    fig = plot_results(\"Generic\")\n",
    "    fig = plot_results(\"Emissions\")"
   ]
  },
  {
   "cell_type": "code",
   "execution_count": null,
   "id": "16450935",
   "metadata": {},
   "outputs": [],
   "source": [
    "# Dummy test in order to test to assert that this notebook runs in GitHub Actions\n",
    "def test_notebook_works():\n",
    "    assert True"
   ]
  }
 ],
 "metadata": {
  "jupytext": {
   "cell_metadata_filter": "-all",
   "formats": "auto:light,ipynb",
   "main_language": "python",
   "notebook_metadata_filter": "-all"
  },
  "kernelspec": {
   "display_name": "Python 3 (ipykernel)",
   "language": "python",
   "name": "python3"
  },
  "language_info": {
   "codemirror_mode": {
    "name": "ipython",
    "version": 3
   },
   "file_extension": ".py",
   "mimetype": "text/x-python",
   "name": "python",
   "nbconvert_exporter": "python",
   "pygments_lexer": "ipython3",
   "version": "3.9.16"
  }
 },
 "nbformat": 4,
 "nbformat_minor": 5
}
